{
 "cells": [
  {
   "cell_type": "code",
   "execution_count": 1,
   "metadata": {
    "execution": {
     "iopub.execute_input": "2024-07-16T16:03:47.599786Z",
     "iopub.status.busy": "2024-07-16T16:03:47.599472Z",
     "iopub.status.idle": "2024-07-16T16:03:47.603713Z",
     "shell.execute_reply": "2024-07-16T16:03:47.602713Z",
     "shell.execute_reply.started": "2024-07-16T16:03:47.599761Z"
    }
   },
   "outputs": [],
   "source": [
    "import pandas as pd"
   ]
  },
  {
   "cell_type": "code",
   "execution_count": 2,
   "metadata": {
    "execution": {
     "iopub.execute_input": "2024-07-16T16:03:48.825012Z",
     "iopub.status.busy": "2024-07-16T16:03:48.824288Z",
     "iopub.status.idle": "2024-07-16T16:03:48.917176Z",
     "shell.execute_reply": "2024-07-16T16:03:48.916278Z",
     "shell.execute_reply.started": "2024-07-16T16:03:48.824943Z"
    }
   },
   "outputs": [
    {
     "data": {
      "text/plain": [
       "(600, 24)"
      ]
     },
     "execution_count": 2,
     "metadata": {},
     "output_type": "execute_result"
    }
   ],
   "source": [
    "annot_tweets = pd.read_parquet('annotated_tweets.parquet')\n",
    "annot_tweets.shape"
   ]
  },
  {
   "cell_type": "code",
   "execution_count": 3,
   "metadata": {
    "execution": {
     "iopub.execute_input": "2024-07-16T16:03:50.590898Z",
     "iopub.status.busy": "2024-07-16T16:03:50.590343Z",
     "iopub.status.idle": "2024-07-16T16:03:50.615821Z",
     "shell.execute_reply": "2024-07-16T16:03:50.614756Z",
     "shell.execute_reply.started": "2024-07-16T16:03:50.590844Z"
    }
   },
   "outputs": [
    {
     "data": {
      "text/html": [
       "<div>\n",
       "<style scoped>\n",
       "    .dataframe tbody tr th:only-of-type {\n",
       "        vertical-align: middle;\n",
       "    }\n",
       "\n",
       "    .dataframe tbody tr th {\n",
       "        vertical-align: top;\n",
       "    }\n",
       "\n",
       "    .dataframe thead th {\n",
       "        text-align: right;\n",
       "    }\n",
       "</style>\n",
       "<table border=\"1\" class=\"dataframe\">\n",
       "  <thead>\n",
       "    <tr style=\"text-align: right;\">\n",
       "      <th></th>\n",
       "      <th>id</th>\n",
       "      <th>tweet</th>\n",
       "      <th>highlight</th>\n",
       "      <th>not_good</th>\n",
       "      <th>polarized</th>\n",
       "      <th>tweet_bias</th>\n",
       "      <th>toxic_language</th>\n",
       "      <th>toxic_language_txt</th>\n",
       "      <th>hate_speech</th>\n",
       "      <th>hate_speech_txt</th>\n",
       "      <th>...</th>\n",
       "      <th>dehumanization</th>\n",
       "      <th>dehumanization_txt</th>\n",
       "      <th>crime_imputation</th>\n",
       "      <th>crime_imputation_txt</th>\n",
       "      <th>divisive_language</th>\n",
       "      <th>divisive_language_txt</th>\n",
       "      <th>strong_bias</th>\n",
       "      <th>strong_bias_txt</th>\n",
       "      <th>other</th>\n",
       "      <th>other_txt</th>\n",
       "    </tr>\n",
       "  </thead>\n",
       "  <tbody>\n",
       "    <tr>\n",
       "      <th>0</th>\n",
       "      <td>1</td>\n",
       "      <td>“PERDEU, MANÉ”! Foi isso mesmo que o ministro ...</td>\n",
       "      <td>1</td>\n",
       "      <td>0</td>\n",
       "      <td>1</td>\n",
       "      <td>1</td>\n",
       "      <td>0</td>\n",
       "      <td></td>\n",
       "      <td>0</td>\n",
       "      <td></td>\n",
       "      <td>...</td>\n",
       "      <td>0</td>\n",
       "      <td></td>\n",
       "      <td>0</td>\n",
       "      <td></td>\n",
       "      <td>0</td>\n",
       "      <td></td>\n",
       "      <td>0</td>\n",
       "      <td></td>\n",
       "      <td>0</td>\n",
       "      <td></td>\n",
       "    </tr>\n",
       "    <tr>\n",
       "      <th>1</th>\n",
       "      <td>2</td>\n",
       "      <td>É fundamental q toda pessoa q está sendo imped...</td>\n",
       "      <td>1</td>\n",
       "      <td>0</td>\n",
       "      <td>1</td>\n",
       "      <td>-1</td>\n",
       "      <td>0</td>\n",
       "      <td></td>\n",
       "      <td>0</td>\n",
       "      <td></td>\n",
       "      <td>...</td>\n",
       "      <td>0</td>\n",
       "      <td></td>\n",
       "      <td>0</td>\n",
       "      <td></td>\n",
       "      <td>1</td>\n",
       "      <td>diferente do lado de lá</td>\n",
       "      <td>0</td>\n",
       "      <td></td>\n",
       "      <td>0</td>\n",
       "      <td></td>\n",
       "    </tr>\n",
       "    <tr>\n",
       "      <th>2</th>\n",
       "      <td>3</td>\n",
       "      <td>🚨 URGENTE! O diretor bolsonarista da Polícia R...</td>\n",
       "      <td>1</td>\n",
       "      <td>0</td>\n",
       "      <td>1</td>\n",
       "      <td>-1</td>\n",
       "      <td>0</td>\n",
       "      <td></td>\n",
       "      <td>0</td>\n",
       "      <td></td>\n",
       "      <td>...</td>\n",
       "      <td>0</td>\n",
       "      <td></td>\n",
       "      <td>1</td>\n",
       "      <td>ISSO É UM GOLPE DE ESTADO! #Eleicoes2022</td>\n",
       "      <td>1</td>\n",
       "      <td>O diretor bolsonarista</td>\n",
       "      <td>0</td>\n",
       "      <td></td>\n",
       "      <td>0</td>\n",
       "      <td></td>\n",
       "    </tr>\n",
       "    <tr>\n",
       "      <th>3</th>\n",
       "      <td>4</td>\n",
       "      <td>🚨URGENTE: Quer dizer que os \"patriotas\" iriam ...</td>\n",
       "      <td>1</td>\n",
       "      <td>0</td>\n",
       "      <td>1</td>\n",
       "      <td>1</td>\n",
       "      <td>0</td>\n",
       "      <td></td>\n",
       "      <td>0</td>\n",
       "      <td></td>\n",
       "      <td>...</td>\n",
       "      <td>1</td>\n",
       "      <td>infiltrados; terroristas</td>\n",
       "      <td>1</td>\n",
       "      <td>infiltrados, terroristas, antifas, black block...</td>\n",
       "      <td>0</td>\n",
       "      <td></td>\n",
       "      <td>0</td>\n",
       "      <td></td>\n",
       "      <td>0</td>\n",
       "      <td></td>\n",
       "    </tr>\n",
       "    <tr>\n",
       "      <th>4</th>\n",
       "      <td>5</td>\n",
       "      <td>Se você roubasse uma eleição em favor de um cr...</td>\n",
       "      <td>1</td>\n",
       "      <td>0</td>\n",
       "      <td>1</td>\n",
       "      <td>1</td>\n",
       "      <td>0</td>\n",
       "      <td></td>\n",
       "      <td>0</td>\n",
       "      <td></td>\n",
       "      <td>...</td>\n",
       "      <td>0</td>\n",
       "      <td></td>\n",
       "      <td>1</td>\n",
       "      <td>Se você roubasse uma eleição em favor de um cr...</td>\n",
       "      <td>0</td>\n",
       "      <td></td>\n",
       "      <td>0</td>\n",
       "      <td></td>\n",
       "      <td>0</td>\n",
       "      <td></td>\n",
       "    </tr>\n",
       "    <tr>\n",
       "      <th>5</th>\n",
       "      <td>6</td>\n",
       "      <td>Renata Vasconcellos: \"Em época de pandemia, o ...</td>\n",
       "      <td>1</td>\n",
       "      <td>0</td>\n",
       "      <td>0</td>\n",
       "      <td>0</td>\n",
       "      <td>0</td>\n",
       "      <td></td>\n",
       "      <td>0</td>\n",
       "      <td></td>\n",
       "      <td>...</td>\n",
       "      <td>0</td>\n",
       "      <td></td>\n",
       "      <td>0</td>\n",
       "      <td></td>\n",
       "      <td>0</td>\n",
       "      <td></td>\n",
       "      <td>0</td>\n",
       "      <td></td>\n",
       "      <td>0</td>\n",
       "      <td></td>\n",
       "    </tr>\n",
       "    <tr>\n",
       "      <th>6</th>\n",
       "      <td>7</td>\n",
       "      <td>Vamos simplificar... Poste aqui nesse tweet TO...</td>\n",
       "      <td>1</td>\n",
       "      <td>0</td>\n",
       "      <td>1</td>\n",
       "      <td>-1</td>\n",
       "      <td>0</td>\n",
       "      <td></td>\n",
       "      <td>0</td>\n",
       "      <td></td>\n",
       "      <td>...</td>\n",
       "      <td>0</td>\n",
       "      <td></td>\n",
       "      <td>0</td>\n",
       "      <td></td>\n",
       "      <td>0</td>\n",
       "      <td></td>\n",
       "      <td>1</td>\n",
       "      <td>Bora criar uma listinha pra facilitar os traba...</td>\n",
       "      <td>0</td>\n",
       "      <td></td>\n",
       "    </tr>\n",
       "    <tr>\n",
       "      <th>7</th>\n",
       "      <td>8</td>\n",
       "      <td>O mínimo que deve acontecer depois do golpismo...</td>\n",
       "      <td>1</td>\n",
       "      <td>0</td>\n",
       "      <td>1</td>\n",
       "      <td>-1</td>\n",
       "      <td>0</td>\n",
       "      <td></td>\n",
       "      <td>0</td>\n",
       "      <td></td>\n",
       "      <td>...</td>\n",
       "      <td>0</td>\n",
       "      <td></td>\n",
       "      <td>1</td>\n",
       "      <td>Responsabilização da Jovem Pan</td>\n",
       "      <td>0</td>\n",
       "      <td></td>\n",
       "      <td>0</td>\n",
       "      <td></td>\n",
       "      <td>0</td>\n",
       "      <td></td>\n",
       "    </tr>\n",
       "    <tr>\n",
       "      <th>8</th>\n",
       "      <td>9</td>\n",
       "      <td>🚨URGENTE!🚨Cacique Xavante Tserere ACABA DE SER...</td>\n",
       "      <td>0</td>\n",
       "      <td>0</td>\n",
       "      <td>1</td>\n",
       "      <td>1</td>\n",
       "      <td>0</td>\n",
       "      <td></td>\n",
       "      <td>0</td>\n",
       "      <td></td>\n",
       "      <td>...</td>\n",
       "      <td>0</td>\n",
       "      <td></td>\n",
       "      <td>0</td>\n",
       "      <td></td>\n",
       "      <td>1</td>\n",
       "      <td>Uma afronta direta ao presidente e uma escalad...</td>\n",
       "      <td>1</td>\n",
       "      <td>Uma afronta direta ao presidente e uma escalad...</td>\n",
       "      <td>0</td>\n",
       "      <td></td>\n",
       "    </tr>\n",
       "    <tr>\n",
       "      <th>9</th>\n",
       "      <td>10</td>\n",
       "      <td>No Nordeste, a Polícia Rodoviária Federal desc...</td>\n",
       "      <td>1</td>\n",
       "      <td>0</td>\n",
       "      <td>1</td>\n",
       "      <td>-1</td>\n",
       "      <td>0</td>\n",
       "      <td></td>\n",
       "      <td>0</td>\n",
       "      <td></td>\n",
       "      <td>...</td>\n",
       "      <td>0</td>\n",
       "      <td></td>\n",
       "      <td>1</td>\n",
       "      <td>Polícia Rodoviária Federal descumpre a ordem j...</td>\n",
       "      <td>0</td>\n",
       "      <td></td>\n",
       "      <td>0</td>\n",
       "      <td></td>\n",
       "      <td>0</td>\n",
       "      <td></td>\n",
       "    </tr>\n",
       "  </tbody>\n",
       "</table>\n",
       "<p>10 rows × 24 columns</p>\n",
       "</div>"
      ],
      "text/plain": [
       "   id                                              tweet  highlight  not_good  \\\n",
       "0   1  “PERDEU, MANÉ”! Foi isso mesmo que o ministro ...          1         0   \n",
       "1   2  É fundamental q toda pessoa q está sendo imped...          1         0   \n",
       "2   3  🚨 URGENTE! O diretor bolsonarista da Polícia R...          1         0   \n",
       "3   4  🚨URGENTE: Quer dizer que os \"patriotas\" iriam ...          1         0   \n",
       "4   5  Se você roubasse uma eleição em favor de um cr...          1         0   \n",
       "5   6  Renata Vasconcellos: \"Em época de pandemia, o ...          1         0   \n",
       "6   7  Vamos simplificar... Poste aqui nesse tweet TO...          1         0   \n",
       "7   8  O mínimo que deve acontecer depois do golpismo...          1         0   \n",
       "8   9  🚨URGENTE!🚨Cacique Xavante Tserere ACABA DE SER...          0         0   \n",
       "9  10  No Nordeste, a Polícia Rodoviária Federal desc...          1         0   \n",
       "\n",
       "   polarized  tweet_bias  toxic_language toxic_language_txt  hate_speech  \\\n",
       "0          1           1               0                               0   \n",
       "1          1          -1               0                               0   \n",
       "2          1          -1               0                               0   \n",
       "3          1           1               0                               0   \n",
       "4          1           1               0                               0   \n",
       "5          0           0               0                               0   \n",
       "6          1          -1               0                               0   \n",
       "7          1          -1               0                               0   \n",
       "8          1           1               0                               0   \n",
       "9          1          -1               0                               0   \n",
       "\n",
       "  hate_speech_txt  ...  dehumanization        dehumanization_txt  \\\n",
       "0                  ...               0                             \n",
       "1                  ...               0                             \n",
       "2                  ...               0                             \n",
       "3                  ...               1  infiltrados; terroristas   \n",
       "4                  ...               0                             \n",
       "5                  ...               0                             \n",
       "6                  ...               0                             \n",
       "7                  ...               0                             \n",
       "8                  ...               0                             \n",
       "9                  ...               0                             \n",
       "\n",
       "   crime_imputation                               crime_imputation_txt  \\\n",
       "0                 0                                                      \n",
       "1                 0                                                      \n",
       "2                 1           ISSO É UM GOLPE DE ESTADO! #Eleicoes2022   \n",
       "3                 1  infiltrados, terroristas, antifas, black block...   \n",
       "4                 1  Se você roubasse uma eleição em favor de um cr...   \n",
       "5                 0                                                      \n",
       "6                 0                                                      \n",
       "7                 1                     Responsabilização da Jovem Pan   \n",
       "8                 0                                                      \n",
       "9                 1  Polícia Rodoviária Federal descumpre a ordem j...   \n",
       "\n",
       "   divisive_language                              divisive_language_txt  \\\n",
       "0                  0                                                      \n",
       "1                  1                            diferente do lado de lá   \n",
       "2                  1                             O diretor bolsonarista   \n",
       "3                  0                                                      \n",
       "4                  0                                                      \n",
       "5                  0                                                      \n",
       "6                  0                                                      \n",
       "7                  0                                                      \n",
       "8                  1  Uma afronta direta ao presidente e uma escalad...   \n",
       "9                  0                                                      \n",
       "\n",
       "   strong_bias                                    strong_bias_txt  other  \\\n",
       "0            0                                                         0   \n",
       "1            0                                                         0   \n",
       "2            0                                                         0   \n",
       "3            0                                                         0   \n",
       "4            0                                                         0   \n",
       "5            0                                                         0   \n",
       "6            1  Bora criar uma listinha pra facilitar os traba...      0   \n",
       "7            0                                                         0   \n",
       "8            1  Uma afronta direta ao presidente e uma escalad...      0   \n",
       "9            0                                                         0   \n",
       "\n",
       "  other_txt  \n",
       "0            \n",
       "1            \n",
       "2            \n",
       "3            \n",
       "4            \n",
       "5            \n",
       "6            \n",
       "7            \n",
       "8            \n",
       "9            \n",
       "\n",
       "[10 rows x 24 columns]"
      ]
     },
     "execution_count": 3,
     "metadata": {},
     "output_type": "execute_result"
    }
   ],
   "source": [
    "annot_tweets.head(10)"
   ]
  },
  {
   "cell_type": "code",
   "execution_count": 4,
   "metadata": {
    "execution": {
     "iopub.execute_input": "2024-07-16T16:03:53.201338Z",
     "iopub.status.busy": "2024-07-16T16:03:53.200748Z",
     "iopub.status.idle": "2024-07-16T16:03:53.207390Z",
     "shell.execute_reply": "2024-07-16T16:03:53.206194Z",
     "shell.execute_reply.started": "2024-07-16T16:03:53.201298Z"
    }
   },
   "outputs": [
    {
     "data": {
      "text/plain": [
       "(600, 24)"
      ]
     },
     "execution_count": 4,
     "metadata": {},
     "output_type": "execute_result"
    }
   ],
   "source": [
    "annot_tweets.shape"
   ]
  },
  {
   "cell_type": "code",
   "execution_count": 5,
   "metadata": {
    "execution": {
     "iopub.execute_input": "2024-07-16T16:03:54.089224Z",
     "iopub.status.busy": "2024-07-16T16:03:54.088657Z",
     "iopub.status.idle": "2024-07-16T16:03:54.099744Z",
     "shell.execute_reply": "2024-07-16T16:03:54.098446Z",
     "shell.execute_reply.started": "2024-07-16T16:03:54.089175Z"
    },
    "scrolled": true
   },
   "outputs": [
    {
     "data": {
      "text/plain": [
       "(600, 24)"
      ]
     },
     "execution_count": 5,
     "metadata": {},
     "output_type": "execute_result"
    }
   ],
   "source": [
    "annot_tweets.drop_duplicates(subset='tweet', ignore_index=True).shape"
   ]
  },
  {
   "cell_type": "code",
   "execution_count": 21,
   "metadata": {
    "execution": {
     "iopub.execute_input": "2024-07-16T17:58:21.901321Z",
     "iopub.status.busy": "2024-07-16T17:58:21.900977Z",
     "iopub.status.idle": "2024-07-16T17:58:40.595327Z",
     "shell.execute_reply": "2024-07-16T17:58:40.594640Z",
     "shell.execute_reply.started": "2024-07-16T17:58:21.901280Z"
    }
   },
   "outputs": [],
   "source": [
    "# checking for updates\n",
    "\n",
    "template = (\n",
    "    '{} -> {}\\n'\n",
    "    '{}: {}\\n'\n",
    "    '{}: {}\\n\\n'\n",
    ")\n",
    "\n",
    "for idx, row in annot_tweets.iterrows():\n",
    "    for idx_2, row_2, in annot_tweets.iterrows():\n",
    "        if idx_2 > idx:\n",
    "            if row['tweet'][0:40] == row_2['tweet'][0:40]:\n",
    "                print(template.format(idx, idx_2, idx, row['tweet'], idx_2, row_2['tweet']))"
   ]
  },
  {
   "cell_type": "code",
   "execution_count": null,
   "metadata": {},
   "outputs": [],
   "source": [
    "left_tweets = annot_tweets[annot_tweets['tweet_bias']==-1].sample(45)\n",
    "left_tweets.shape"
   ]
  },
  {
   "cell_type": "code",
   "execution_count": null,
   "metadata": {},
   "outputs": [],
   "source": [
    "right_tweets = annot_tweets[annot_tweets['tweet_bias']==1].sample(45)\n",
    "right_tweets.shape"
   ]
  },
  {
   "cell_type": "code",
   "execution_count": null,
   "metadata": {},
   "outputs": [],
   "source": [
    "random_sample = pd.concat([left_tweets, right_tweets]).sample(frac=1)\n",
    "random_sample.reset_index(inplace=True, drop=True)\n",
    "random_sample.shape"
   ]
  },
  {
   "cell_type": "code",
   "execution_count": null,
   "metadata": {},
   "outputs": [],
   "source": [
    "random_sample.head()"
   ]
  },
  {
   "cell_type": "code",
   "execution_count": null,
   "metadata": {},
   "outputs": [],
   "source": [
    "def define_bias(bias_val):\n",
    "    if bias_val == -1:\n",
    "        return 'L'\n",
    "    elif bias_val == 0:\n",
    "        return 'C'\n",
    "    elif bias_val == 1:\n",
    "        return 'R'\n",
    "    else:\n",
    "        return 'U'"
   ]
  },
  {
   "cell_type": "code",
   "execution_count": null,
   "metadata": {},
   "outputs": [],
   "source": [
    "tweets = []\n",
    "for idx, row in random_sample.iterrows():\n",
    "    id = define_bias(row['tweet_bias'])+str(idx).zfill(3)\n",
    "    tweets.append({\n",
    "        'tweet_id': id,\n",
    "        'tweet_text': row['tweet'],\n",
    "        'bias': define_bias(row['tweet_bias']),\n",
    "        'tweet_bias': row['tweet_bias']\n",
    "    })"
   ]
  },
  {
   "cell_type": "code",
   "execution_count": null,
   "metadata": {},
   "outputs": [],
   "source": [
    "indexed_tweets = pd.DataFrame.from_records(tweets)"
   ]
  },
  {
   "cell_type": "code",
   "execution_count": null,
   "metadata": {},
   "outputs": [],
   "source": [
    "indexed_tweets.head()"
   ]
  },
  {
   "cell_type": "code",
   "execution_count": null,
   "metadata": {},
   "outputs": [],
   "source": [
    "human = [\n",
    "    indexed_tweets[indexed_tweets['bias']=='L'][0:15],\n",
    "    indexed_tweets[indexed_tweets['bias']=='R'][0:15]\n",
    "]\n",
    "machine = [\n",
    "    indexed_tweets[indexed_tweets['bias']=='L'][15:30],\n",
    "    indexed_tweets[indexed_tweets['bias']=='R'][15:30]\n",
    "]\n",
    "placebo = [\n",
    "    indexed_tweets[indexed_tweets['bias']=='L'][30:45],\n",
    "    indexed_tweets[indexed_tweets['bias']=='R'][30:45]\n",
    "]\n",
    "\n",
    "human_tts = pd.concat(human)\n",
    "machine_tts = pd.concat(machine)\n",
    "placebo_tts = pd.concat(placebo)"
   ]
  },
  {
   "cell_type": "code",
   "execution_count": null,
   "metadata": {},
   "outputs": [],
   "source": [
    "human_tts['rephrased_id'] = human_tts['tweet_id'].apply(lambda x: 'H'+x)\n",
    "machine_tts['rephrased_id'] = machine_tts['tweet_id'].apply(lambda x: 'M'+x)\n",
    "placebo_tts['rephrased_id'] = placebo_tts['tweet_id'].apply(lambda x: 'P'+x)\n",
    "\n",
    "human_tts['rephrased_text'] = human_tts['tweet_text'].apply(lambda x: 'Rep - '+x)\n",
    "machine_tts['rephrased_text'] = machine_tts['tweet_text'].apply(lambda x: 'Rep - '+ x)\n",
    "placebo_tts['rephrased_text'] = placebo_tts['tweet_text'].apply(lambda x: 'Rep - '+ x)\n",
    "\n",
    "human_tts['group'] = 'human'\n",
    "machine_tts['group'] = 'machine'\n",
    "placebo_tts['group'] = 'placebo'\n",
    "\n",
    "tweets_df = pd.concat([human_tts, machine_tts, placebo_tts]).sample(frac=1).reset_index(drop=True)\n",
    "tweets_df.shape"
   ]
  },
  {
   "cell_type": "code",
   "execution_count": null,
   "metadata": {},
   "outputs": [],
   "source": [
    "tweets_df.sample(10)"
   ]
  },
  {
   "cell_type": "code",
   "execution_count": null,
   "metadata": {},
   "outputs": [],
   "source": [
    "tweets_df.to_parquet('tweets.parquet', index=False)"
   ]
  },
  {
   "cell_type": "code",
   "execution_count": null,
   "metadata": {},
   "outputs": [],
   "source": []
  }
 ],
 "metadata": {
  "kernelspec": {
   "display_name": "Python 3 (ipykernel)",
   "language": "python",
   "name": "python3"
  },
  "language_info": {
   "codemirror_mode": {
    "name": "ipython",
    "version": 3
   },
   "file_extension": ".py",
   "mimetype": "text/x-python",
   "name": "python",
   "nbconvert_exporter": "python",
   "pygments_lexer": "ipython3",
   "version": "3.12.2"
  }
 },
 "nbformat": 4,
 "nbformat_minor": 4
}
