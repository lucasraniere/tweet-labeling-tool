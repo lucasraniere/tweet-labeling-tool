{
 "cells": [
  {
   "cell_type": "code",
   "execution_count": 1,
   "metadata": {
    "execution": {
     "iopub.execute_input": "2024-07-23T19:51:20.464900Z",
     "iopub.status.busy": "2024-07-23T19:51:20.464151Z",
     "iopub.status.idle": "2024-07-23T19:51:21.022529Z",
     "shell.execute_reply": "2024-07-23T19:51:21.021758Z",
     "shell.execute_reply.started": "2024-07-23T19:51:20.464854Z"
    }
   },
   "outputs": [],
   "source": [
    "import pandas as pd"
   ]
  },
  {
   "cell_type": "code",
   "execution_count": 2,
   "metadata": {
    "execution": {
     "iopub.execute_input": "2024-07-23T19:51:21.025362Z",
     "iopub.status.busy": "2024-07-23T19:51:21.023561Z",
     "iopub.status.idle": "2024-07-23T19:51:21.146365Z",
     "shell.execute_reply": "2024-07-23T19:51:21.145448Z",
     "shell.execute_reply.started": "2024-07-23T19:51:21.025298Z"
    }
   },
   "outputs": [
    {
     "data": {
      "text/plain": [
       "(1000, 24)"
      ]
     },
     "execution_count": 2,
     "metadata": {},
     "output_type": "execute_result"
    }
   ],
   "source": [
    "annot_tweets = pd.read_parquet('annotated_tweets.parquet')\n",
    "annot_tweets.shape"
   ]
  },
  {
   "cell_type": "code",
   "execution_count": 3,
   "metadata": {
    "execution": {
     "iopub.execute_input": "2024-07-23T19:51:21.148741Z",
     "iopub.status.busy": "2024-07-23T19:51:21.147616Z",
     "iopub.status.idle": "2024-07-23T19:51:21.172044Z",
     "shell.execute_reply": "2024-07-23T19:51:21.171188Z",
     "shell.execute_reply.started": "2024-07-23T19:51:21.148685Z"
    }
   },
   "outputs": [
    {
     "data": {
      "text/html": [
       "<div>\n",
       "<style scoped>\n",
       "    .dataframe tbody tr th:only-of-type {\n",
       "        vertical-align: middle;\n",
       "    }\n",
       "\n",
       "    .dataframe tbody tr th {\n",
       "        vertical-align: top;\n",
       "    }\n",
       "\n",
       "    .dataframe thead th {\n",
       "        text-align: right;\n",
       "    }\n",
       "</style>\n",
       "<table border=\"1\" class=\"dataframe\">\n",
       "  <thead>\n",
       "    <tr style=\"text-align: right;\">\n",
       "      <th></th>\n",
       "      <th>id</th>\n",
       "      <th>tweet</th>\n",
       "      <th>highlight</th>\n",
       "      <th>not_good</th>\n",
       "      <th>polarized</th>\n",
       "      <th>tweet_bias</th>\n",
       "      <th>toxic_language</th>\n",
       "      <th>toxic_language_txt</th>\n",
       "      <th>hate_speech</th>\n",
       "      <th>hate_speech_txt</th>\n",
       "      <th>...</th>\n",
       "      <th>dehumanization</th>\n",
       "      <th>dehumanization_txt</th>\n",
       "      <th>crime_imputation</th>\n",
       "      <th>crime_imputation_txt</th>\n",
       "      <th>divisive_language</th>\n",
       "      <th>divisive_language_txt</th>\n",
       "      <th>strong_bias</th>\n",
       "      <th>strong_bias_txt</th>\n",
       "      <th>other</th>\n",
       "      <th>other_txt</th>\n",
       "    </tr>\n",
       "  </thead>\n",
       "  <tbody>\n",
       "    <tr>\n",
       "      <th>0</th>\n",
       "      <td>1</td>\n",
       "      <td>“PERDEU, MANÉ”! Foi isso mesmo que o ministro ...</td>\n",
       "      <td>1</td>\n",
       "      <td>0</td>\n",
       "      <td>1</td>\n",
       "      <td>1</td>\n",
       "      <td>0</td>\n",
       "      <td></td>\n",
       "      <td>0</td>\n",
       "      <td></td>\n",
       "      <td>...</td>\n",
       "      <td>0</td>\n",
       "      <td></td>\n",
       "      <td>0</td>\n",
       "      <td></td>\n",
       "      <td>0</td>\n",
       "      <td></td>\n",
       "      <td>0</td>\n",
       "      <td></td>\n",
       "      <td>0</td>\n",
       "      <td></td>\n",
       "    </tr>\n",
       "    <tr>\n",
       "      <th>1</th>\n",
       "      <td>2</td>\n",
       "      <td>É fundamental q toda pessoa q está sendo imped...</td>\n",
       "      <td>1</td>\n",
       "      <td>0</td>\n",
       "      <td>1</td>\n",
       "      <td>-1</td>\n",
       "      <td>0</td>\n",
       "      <td></td>\n",
       "      <td>0</td>\n",
       "      <td></td>\n",
       "      <td>...</td>\n",
       "      <td>0</td>\n",
       "      <td></td>\n",
       "      <td>0</td>\n",
       "      <td></td>\n",
       "      <td>1</td>\n",
       "      <td>diferente do lado de lá</td>\n",
       "      <td>0</td>\n",
       "      <td></td>\n",
       "      <td>0</td>\n",
       "      <td></td>\n",
       "    </tr>\n",
       "    <tr>\n",
       "      <th>2</th>\n",
       "      <td>3</td>\n",
       "      <td>🚨 URGENTE! O diretor bolsonarista da Polícia R...</td>\n",
       "      <td>1</td>\n",
       "      <td>0</td>\n",
       "      <td>1</td>\n",
       "      <td>-1</td>\n",
       "      <td>0</td>\n",
       "      <td></td>\n",
       "      <td>0</td>\n",
       "      <td></td>\n",
       "      <td>...</td>\n",
       "      <td>0</td>\n",
       "      <td></td>\n",
       "      <td>1</td>\n",
       "      <td>ISSO É UM GOLPE DE ESTADO! #Eleicoes2022</td>\n",
       "      <td>1</td>\n",
       "      <td>O diretor bolsonarista</td>\n",
       "      <td>0</td>\n",
       "      <td></td>\n",
       "      <td>0</td>\n",
       "      <td></td>\n",
       "    </tr>\n",
       "    <tr>\n",
       "      <th>3</th>\n",
       "      <td>4</td>\n",
       "      <td>🚨URGENTE: Quer dizer que os \"patriotas\" iriam ...</td>\n",
       "      <td>1</td>\n",
       "      <td>0</td>\n",
       "      <td>1</td>\n",
       "      <td>1</td>\n",
       "      <td>0</td>\n",
       "      <td></td>\n",
       "      <td>0</td>\n",
       "      <td></td>\n",
       "      <td>...</td>\n",
       "      <td>1</td>\n",
       "      <td>infiltrados; terroristas</td>\n",
       "      <td>1</td>\n",
       "      <td>infiltrados, terroristas, antifas, black block...</td>\n",
       "      <td>0</td>\n",
       "      <td></td>\n",
       "      <td>0</td>\n",
       "      <td></td>\n",
       "      <td>0</td>\n",
       "      <td></td>\n",
       "    </tr>\n",
       "    <tr>\n",
       "      <th>4</th>\n",
       "      <td>5</td>\n",
       "      <td>Se você roubasse uma eleição em favor de um cr...</td>\n",
       "      <td>1</td>\n",
       "      <td>0</td>\n",
       "      <td>1</td>\n",
       "      <td>1</td>\n",
       "      <td>0</td>\n",
       "      <td></td>\n",
       "      <td>0</td>\n",
       "      <td></td>\n",
       "      <td>...</td>\n",
       "      <td>0</td>\n",
       "      <td></td>\n",
       "      <td>1</td>\n",
       "      <td>Se você roubasse uma eleição em favor de um cr...</td>\n",
       "      <td>0</td>\n",
       "      <td></td>\n",
       "      <td>0</td>\n",
       "      <td></td>\n",
       "      <td>0</td>\n",
       "      <td></td>\n",
       "    </tr>\n",
       "    <tr>\n",
       "      <th>5</th>\n",
       "      <td>6</td>\n",
       "      <td>Renata Vasconcellos: \"Em época de pandemia, o ...</td>\n",
       "      <td>1</td>\n",
       "      <td>0</td>\n",
       "      <td>0</td>\n",
       "      <td>0</td>\n",
       "      <td>0</td>\n",
       "      <td></td>\n",
       "      <td>0</td>\n",
       "      <td></td>\n",
       "      <td>...</td>\n",
       "      <td>0</td>\n",
       "      <td></td>\n",
       "      <td>0</td>\n",
       "      <td></td>\n",
       "      <td>0</td>\n",
       "      <td></td>\n",
       "      <td>0</td>\n",
       "      <td></td>\n",
       "      <td>0</td>\n",
       "      <td></td>\n",
       "    </tr>\n",
       "    <tr>\n",
       "      <th>6</th>\n",
       "      <td>7</td>\n",
       "      <td>Vamos simplificar... Poste aqui nesse tweet TO...</td>\n",
       "      <td>1</td>\n",
       "      <td>0</td>\n",
       "      <td>1</td>\n",
       "      <td>-1</td>\n",
       "      <td>0</td>\n",
       "      <td></td>\n",
       "      <td>0</td>\n",
       "      <td></td>\n",
       "      <td>...</td>\n",
       "      <td>0</td>\n",
       "      <td></td>\n",
       "      <td>0</td>\n",
       "      <td></td>\n",
       "      <td>0</td>\n",
       "      <td></td>\n",
       "      <td>1</td>\n",
       "      <td>Bora criar uma listinha pra facilitar os traba...</td>\n",
       "      <td>0</td>\n",
       "      <td></td>\n",
       "    </tr>\n",
       "    <tr>\n",
       "      <th>7</th>\n",
       "      <td>8</td>\n",
       "      <td>O mínimo que deve acontecer depois do golpismo...</td>\n",
       "      <td>1</td>\n",
       "      <td>0</td>\n",
       "      <td>1</td>\n",
       "      <td>-1</td>\n",
       "      <td>0</td>\n",
       "      <td></td>\n",
       "      <td>0</td>\n",
       "      <td></td>\n",
       "      <td>...</td>\n",
       "      <td>0</td>\n",
       "      <td></td>\n",
       "      <td>1</td>\n",
       "      <td>Responsabilização da Jovem Pan</td>\n",
       "      <td>0</td>\n",
       "      <td></td>\n",
       "      <td>0</td>\n",
       "      <td></td>\n",
       "      <td>0</td>\n",
       "      <td></td>\n",
       "    </tr>\n",
       "    <tr>\n",
       "      <th>8</th>\n",
       "      <td>9</td>\n",
       "      <td>🚨URGENTE!🚨Cacique Xavante Tserere ACABA DE SER...</td>\n",
       "      <td>0</td>\n",
       "      <td>0</td>\n",
       "      <td>1</td>\n",
       "      <td>1</td>\n",
       "      <td>0</td>\n",
       "      <td></td>\n",
       "      <td>0</td>\n",
       "      <td></td>\n",
       "      <td>...</td>\n",
       "      <td>0</td>\n",
       "      <td></td>\n",
       "      <td>0</td>\n",
       "      <td></td>\n",
       "      <td>1</td>\n",
       "      <td>Uma afronta direta ao presidente e uma escalad...</td>\n",
       "      <td>1</td>\n",
       "      <td>Uma afronta direta ao presidente e uma escalad...</td>\n",
       "      <td>0</td>\n",
       "      <td></td>\n",
       "    </tr>\n",
       "    <tr>\n",
       "      <th>9</th>\n",
       "      <td>10</td>\n",
       "      <td>No Nordeste, a Polícia Rodoviária Federal desc...</td>\n",
       "      <td>1</td>\n",
       "      <td>0</td>\n",
       "      <td>1</td>\n",
       "      <td>-1</td>\n",
       "      <td>0</td>\n",
       "      <td></td>\n",
       "      <td>0</td>\n",
       "      <td></td>\n",
       "      <td>...</td>\n",
       "      <td>0</td>\n",
       "      <td></td>\n",
       "      <td>1</td>\n",
       "      <td>Polícia Rodoviária Federal descumpre a ordem j...</td>\n",
       "      <td>0</td>\n",
       "      <td></td>\n",
       "      <td>0</td>\n",
       "      <td></td>\n",
       "      <td>0</td>\n",
       "      <td></td>\n",
       "    </tr>\n",
       "  </tbody>\n",
       "</table>\n",
       "<p>10 rows × 24 columns</p>\n",
       "</div>"
      ],
      "text/plain": [
       "   id                                              tweet  highlight  not_good  \\\n",
       "0   1  “PERDEU, MANÉ”! Foi isso mesmo que o ministro ...          1         0   \n",
       "1   2  É fundamental q toda pessoa q está sendo imped...          1         0   \n",
       "2   3  🚨 URGENTE! O diretor bolsonarista da Polícia R...          1         0   \n",
       "3   4  🚨URGENTE: Quer dizer que os \"patriotas\" iriam ...          1         0   \n",
       "4   5  Se você roubasse uma eleição em favor de um cr...          1         0   \n",
       "5   6  Renata Vasconcellos: \"Em época de pandemia, o ...          1         0   \n",
       "6   7  Vamos simplificar... Poste aqui nesse tweet TO...          1         0   \n",
       "7   8  O mínimo que deve acontecer depois do golpismo...          1         0   \n",
       "8   9  🚨URGENTE!🚨Cacique Xavante Tserere ACABA DE SER...          0         0   \n",
       "9  10  No Nordeste, a Polícia Rodoviária Federal desc...          1         0   \n",
       "\n",
       "   polarized  tweet_bias  toxic_language toxic_language_txt  hate_speech  \\\n",
       "0          1           1               0                               0   \n",
       "1          1          -1               0                               0   \n",
       "2          1          -1               0                               0   \n",
       "3          1           1               0                               0   \n",
       "4          1           1               0                               0   \n",
       "5          0           0               0                               0   \n",
       "6          1          -1               0                               0   \n",
       "7          1          -1               0                               0   \n",
       "8          1           1               0                               0   \n",
       "9          1          -1               0                               0   \n",
       "\n",
       "  hate_speech_txt  ...  dehumanization        dehumanization_txt  \\\n",
       "0                  ...               0                             \n",
       "1                  ...               0                             \n",
       "2                  ...               0                             \n",
       "3                  ...               1  infiltrados; terroristas   \n",
       "4                  ...               0                             \n",
       "5                  ...               0                             \n",
       "6                  ...               0                             \n",
       "7                  ...               0                             \n",
       "8                  ...               0                             \n",
       "9                  ...               0                             \n",
       "\n",
       "   crime_imputation                               crime_imputation_txt  \\\n",
       "0                 0                                                      \n",
       "1                 0                                                      \n",
       "2                 1           ISSO É UM GOLPE DE ESTADO! #Eleicoes2022   \n",
       "3                 1  infiltrados, terroristas, antifas, black block...   \n",
       "4                 1  Se você roubasse uma eleição em favor de um cr...   \n",
       "5                 0                                                      \n",
       "6                 0                                                      \n",
       "7                 1                     Responsabilização da Jovem Pan   \n",
       "8                 0                                                      \n",
       "9                 1  Polícia Rodoviária Federal descumpre a ordem j...   \n",
       "\n",
       "   divisive_language                              divisive_language_txt  \\\n",
       "0                  0                                                      \n",
       "1                  1                            diferente do lado de lá   \n",
       "2                  1                             O diretor bolsonarista   \n",
       "3                  0                                                      \n",
       "4                  0                                                      \n",
       "5                  0                                                      \n",
       "6                  0                                                      \n",
       "7                  0                                                      \n",
       "8                  1  Uma afronta direta ao presidente e uma escalad...   \n",
       "9                  0                                                      \n",
       "\n",
       "   strong_bias                                    strong_bias_txt  other  \\\n",
       "0            0                                                         0   \n",
       "1            0                                                         0   \n",
       "2            0                                                         0   \n",
       "3            0                                                         0   \n",
       "4            0                                                         0   \n",
       "5            0                                                         0   \n",
       "6            1  Bora criar uma listinha pra facilitar os traba...      0   \n",
       "7            0                                                         0   \n",
       "8            1  Uma afronta direta ao presidente e uma escalad...      0   \n",
       "9            0                                                         0   \n",
       "\n",
       "  other_txt  \n",
       "0            \n",
       "1            \n",
       "2            \n",
       "3            \n",
       "4            \n",
       "5            \n",
       "6            \n",
       "7            \n",
       "8            \n",
       "9            \n",
       "\n",
       "[10 rows x 24 columns]"
      ]
     },
     "execution_count": 3,
     "metadata": {},
     "output_type": "execute_result"
    }
   ],
   "source": [
    "annot_tweets.head(10)"
   ]
  },
  {
   "cell_type": "code",
   "execution_count": 4,
   "metadata": {
    "execution": {
     "iopub.execute_input": "2024-07-23T19:51:21.173517Z",
     "iopub.status.busy": "2024-07-23T19:51:21.173166Z",
     "iopub.status.idle": "2024-07-23T19:51:21.181264Z",
     "shell.execute_reply": "2024-07-23T19:51:21.180128Z",
     "shell.execute_reply.started": "2024-07-23T19:51:21.173485Z"
    },
    "scrolled": true
   },
   "outputs": [
    {
     "data": {
      "text/plain": [
       "(1000, 24)"
      ]
     },
     "execution_count": 4,
     "metadata": {},
     "output_type": "execute_result"
    }
   ],
   "source": [
    "annot_tweets.drop_duplicates(subset='tweet', ignore_index=True).shape"
   ]
  },
  {
   "cell_type": "code",
   "execution_count": 5,
   "metadata": {
    "execution": {
     "iopub.execute_input": "2024-07-23T19:51:21.184846Z",
     "iopub.status.busy": "2024-07-23T19:51:21.184211Z",
     "iopub.status.idle": "2024-07-23T19:51:21.777234Z",
     "shell.execute_reply": "2024-07-23T19:51:21.776440Z",
     "shell.execute_reply.started": "2024-07-23T19:51:21.184802Z"
    }
   },
   "outputs": [
    {
     "data": {
      "text/plain": [
       "<Axes: xlabel='tweet_bias'>"
      ]
     },
     "execution_count": 5,
     "metadata": {},
     "output_type": "execute_result"
    },
    {
     "data": {
      "image/png": "[encoded data removed]",
      "text/plain": [
       "<Figure size 640x480 with 1 Axes>"
      ]
     },
     "metadata": {},
     "output_type": "display_data"
    }
   ],
   "source": [
    "annot_tweets['tweet_bias'].value_counts().plot.bar()"
   ]
  },
  {
   "cell_type": "code",
   "execution_count": 6,
   "metadata": {
    "execution": {
     "iopub.execute_input": "2024-07-23T19:51:21.778495Z",
     "iopub.status.busy": "2024-07-23T19:51:21.778115Z",
     "iopub.status.idle": "2024-07-23T19:51:21.786083Z",
     "shell.execute_reply": "2024-07-23T19:51:21.785164Z",
     "shell.execute_reply.started": "2024-07-23T19:51:21.778469Z"
    }
   },
   "outputs": [
    {
     "data": {
      "text/plain": [
       "(484, 24)"
      ]
     },
     "execution_count": 6,
     "metadata": {},
     "output_type": "execute_result"
    }
   ],
   "source": [
    "left_tweets = annot_tweets[annot_tweets['tweet_bias']==-1]\n",
    "left_tweets.shape"
   ]
  },
  {
   "cell_type": "code",
   "execution_count": 7,
   "metadata": {
    "execution": {
     "iopub.execute_input": "2024-07-23T19:51:21.787771Z",
     "iopub.status.busy": "2024-07-23T19:51:21.787371Z",
     "iopub.status.idle": "2024-07-23T19:51:21.801750Z",
     "shell.execute_reply": "2024-07-23T19:51:21.800852Z",
     "shell.execute_reply.started": "2024-07-23T19:51:21.787735Z"
    }
   },
   "outputs": [
    {
     "data": {
      "text/plain": [
       "(412, 24)"
      ]
     },
     "execution_count": 7,
     "metadata": {},
     "output_type": "execute_result"
    }
   ],
   "source": [
    "right_tweets = annot_tweets[annot_tweets['tweet_bias']==1]\n",
    "right_tweets.shape"
   ]
  },
  {
   "cell_type": "code",
   "execution_count": 8,
   "metadata": {
    "execution": {
     "iopub.execute_input": "2024-07-23T19:51:21.803376Z",
     "iopub.status.busy": "2024-07-23T19:51:21.803057Z",
     "iopub.status.idle": "2024-07-23T19:51:22.209602Z",
     "shell.execute_reply": "2024-07-23T19:51:22.206995Z",
     "shell.execute_reply.started": "2024-07-23T19:51:21.803342Z"
    }
   },
   "outputs": [
    {
     "data": {
      "text/plain": [
       "array([[<Axes: title={'center': 'highlight'}>,\n",
       "        <Axes: title={'center': 'not_good'}>]], dtype=object)"
      ]
     },
     "execution_count": 8,
     "metadata": {},
     "output_type": "execute_result"
    },
    {
     "data": {
      "image/png": "[encoded data removed]",
      "text/plain": [
       "<Figure size 640x480 with 2 Axes>"
      ]
     },
     "metadata": {},
     "output_type": "display_data"
    }
   ],
   "source": [
    "annot_tweets[['highlight', 'not_good']].hist()"
   ]
  },
  {
   "cell_type": "code",
   "execution_count": 9,
   "metadata": {
    "execution": {
     "iopub.execute_input": "2024-07-23T19:51:22.212340Z",
     "iopub.status.busy": "2024-07-23T19:51:22.211551Z",
     "iopub.status.idle": "2024-07-23T19:51:22.425834Z",
     "shell.execute_reply": "2024-07-23T19:51:22.424974Z",
     "shell.execute_reply.started": "2024-07-23T19:51:22.212282Z"
    }
   },
   "outputs": [
    {
     "data": {
      "text/plain": [
       "<Axes: xlabel='tweet_bias'>"
      ]
     },
     "execution_count": 9,
     "metadata": {},
     "output_type": "execute_result"
    },
    {
     "data": {
      "image/png": "[encoded data removed]",
      "text/plain": [
       "<Figure size 640x480 with 1 Axes>"
      ]
     },
     "metadata": {},
     "output_type": "display_data"
    }
   ],
   "source": [
    "annot_tweets.loc[annot_tweets['highlight']==1]['tweet_bias'].value_counts().plot.bar()"
   ]
  },
  {
   "cell_type": "code",
   "execution_count": 10,
   "metadata": {
    "execution": {
     "iopub.execute_input": "2024-07-23T19:51:22.427209Z",
     "iopub.status.busy": "2024-07-23T19:51:22.426881Z",
     "iopub.status.idle": "2024-07-23T19:51:22.592199Z",
     "shell.execute_reply": "2024-07-23T19:51:22.591198Z",
     "shell.execute_reply.started": "2024-07-23T19:51:22.427181Z"
    }
   },
   "outputs": [
    {
     "data": {
      "text/plain": [
       "<Axes: xlabel='tweet_bias'>"
      ]
     },
     "execution_count": 10,
     "metadata": {},
     "output_type": "execute_result"
    },
    {
     "data": {
      "image/png": "[encoded data removed]",
      "text/plain": [
       "<Figure size 640x480 with 1 Axes>"
      ]
     },
     "metadata": {},
     "output_type": "display_data"
    }
   ],
   "source": [
    "annot_tweets.loc[annot_tweets['not_good']==1]['tweet_bias'].value_counts().plot.bar()"
   ]
  },
  {
   "cell_type": "code",
   "execution_count": 11,
   "metadata": {
    "execution": {
     "iopub.execute_input": "2024-07-23T19:51:22.594014Z",
     "iopub.status.busy": "2024-07-23T19:51:22.593556Z",
     "iopub.status.idle": "2024-07-23T19:51:22.789664Z",
     "shell.execute_reply": "2024-07-23T19:51:22.788993Z",
     "shell.execute_reply.started": "2024-07-23T19:51:22.593972Z"
    }
   },
   "outputs": [
    {
     "data": {
      "text/plain": [
       "<Axes: >"
      ]
     },
     "execution_count": 11,
     "metadata": {},
     "output_type": "execute_result"
    },
    {
     "data": {
      "image/png": "[encoded data removed]",
      "text/plain": [
       "<Figure size 640x480 with 1 Axes>"
      ]
     },
     "metadata": {},
     "output_type": "display_data"
    }
   ],
   "source": [
    "charac_columns = [charac for charac in annot_tweets.columns[6:] if not charac.endswith('_txt')]\n",
    "\n",
    "annot_tweets[charac_columns].sum().plot.bar()"
   ]
  },
  {
   "cell_type": "code",
   "execution_count": 12,
   "metadata": {
    "execution": {
     "iopub.execute_input": "2024-07-23T19:51:22.790771Z",
     "iopub.status.busy": "2024-07-23T19:51:22.790471Z",
     "iopub.status.idle": "2024-07-23T19:51:22.798961Z",
     "shell.execute_reply": "2024-07-23T19:51:22.798098Z",
     "shell.execute_reply.started": "2024-07-23T19:51:22.790746Z"
    }
   },
   "outputs": [
    {
     "data": {
      "text/plain": [
       "toxic_language       139\n",
       "hate_speech            1\n",
       "emotive_language     389\n",
       "conspiracy           139\n",
       "dehumanization        38\n",
       "crime_imputation     235\n",
       "divisive_language    307\n",
       "strong_bias          102\n",
       "other                  0\n",
       "dtype: int64"
      ]
     },
     "execution_count": 12,
     "metadata": {},
     "output_type": "execute_result"
    }
   ],
   "source": [
    "annot_tweets[charac_columns].sum()"
   ]
  }
 ],
 "metadata": {
  "kernelspec": {
   "display_name": "Python 3 (ipykernel)",
   "language": "python",
   "name": "python3"
  },
  "language_info": {
   "codemirror_mode": {
    "name": "ipython",
    "version": 3
   },
   "file_extension": ".py",
   "mimetype": "text/x-python",
   "name": "python",
   "nbconvert_exporter": "python",
   "pygments_lexer": "ipython3",
   "version": "3.12.2"
  }
 },
 "nbformat": 4,
 "nbformat_minor": 4
}
